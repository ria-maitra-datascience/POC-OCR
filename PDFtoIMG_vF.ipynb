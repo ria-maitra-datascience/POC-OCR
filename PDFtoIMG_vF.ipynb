{
  "cells": [
    {
      "cell_type": "markdown",
      "metadata": {
        "id": "view-in-github",
        "colab_type": "text"
      },
      "source": [
        "<a href=\"https://colab.research.google.com/github/zenon10/POC-OCR/blob/main/PDFtoIMG_vF.ipynb\" target=\"_parent\"><img src=\"https://colab.research.google.com/assets/colab-badge.svg\" alt=\"Open In Colab\"/></a>"
      ]
    },
    {
      "cell_type": "markdown",
      "id": "c59d96be",
      "metadata": {
        "id": "c59d96be"
      },
      "source": [
        "## OCR Tesseract SET UP"
      ]
    },
    {
      "cell_type": "code",
      "execution_count": null,
      "id": "e86b1abc",
      "metadata": {
        "id": "e86b1abc"
      },
      "outputs": [],
      "source": [
        "pip install pytesseract\n",
        "\n",
        "print(pytesseract.image_to_string(image path))"
      ]
    },
    {
      "cell_type": "code",
      "execution_count": null,
      "id": "f6c427b9",
      "metadata": {
        "collapsed": true,
        "id": "f6c427b9",
        "outputId": "5685e210-85a7-4218-bcb0-d791c85c4720"
      },
      "outputs": [
        {
          "name": "stdout",
          "output_type": "stream",
          "text": [
            "Collecting pytesseract\n",
            "  Downloading pytesseract-0.3.10-py3-none-any.whl (14 kB)\n",
            "Requirement already satisfied: Pillow>=8.0.0 in c:\\users\\riamaitra\\anaconda3\\lib\\site-packages (from pytesseract) (8.4.0)\n",
            "Collecting packaging>=21.3\n",
            "  Downloading packaging-23.0-py3-none-any.whl (42 kB)\n",
            "Installing collected packages: packaging, pytesseract\n",
            "  Attempting uninstall: packaging\n",
            "    Found existing installation: packaging 21.0\n",
            "    Uninstalling packaging-21.0:\n",
            "      Successfully uninstalled packaging-21.0\n",
            "Successfully installed packaging-23.0 pytesseract-0.3.10\n",
            "Note: you may need to restart the kernel to use updated packages.\n"
          ]
        }
      ],
      "source": [
        "pip install pytesseract"
      ]
    },
    {
      "cell_type": "code",
      "execution_count": null,
      "id": "494dd616",
      "metadata": {
        "id": "494dd616"
      },
      "outputs": [],
      "source": [
        "import pytesseract \n",
        "# If you don't have tesseract executable in your PATH, include the following:\n",
        "pytesseract.pytesseract.tesseract_cmd = r'C:\\Users\\ShwetaBatra\\OneDrive - Zenon\\tesseract.exe'"
      ]
    },
    {
      "cell_type": "markdown",
      "id": "1217101e",
      "metadata": {
        "id": "1217101e"
      },
      "source": [
        "## Coverting PDF to IMAGE"
      ]
    },
    {
      "cell_type": "code",
      "execution_count": null,
      "id": "272829fb",
      "metadata": {
        "id": "272829fb",
        "outputId": "20771e2c-6877-4870-a4b4-1341bc393455"
      },
      "outputs": [
        {
          "name": "stdout",
          "output_type": "stream",
          "text": [
            "Collecting pypdfium2\n",
            "  Downloading pypdfium2-3.19.0-py3-none-win_amd64.whl (2.7 MB)\n",
            "     ---------------------------------------- 2.7/2.7 MB 15.8 MB/s eta 0:00:00\n",
            "Installing collected packages: pypdfium2\n",
            "Successfully installed pypdfium2-3.19.0\n"
          ]
        }
      ],
      "source": [
        "! pip install pypdfium2"
      ]
    },
    {
      "cell_type": "markdown",
      "id": "6e860db3",
      "metadata": {
        "id": "6e860db3"
      },
      "source": [
        "### Importing Required Libraries"
      ]
    },
    {
      "cell_type": "code",
      "execution_count": null,
      "id": "eff942f0",
      "metadata": {
        "id": "eff942f0"
      },
      "outputs": [],
      "source": [
        "# Library to work with Operating Syatem\n",
        "import os\n",
        "\n",
        "# Library to create PDF, inspection, manupulation and rendering(turning into images)\n",
        "import pypdfium2 as pdfium\n",
        "\n",
        "# Regex lirary to manipulate string\n",
        "import re\n",
        "\n",
        "from PIL import Image"
      ]
    },
    {
      "cell_type": "code",
      "execution_count": null,
      "id": "74eacb90",
      "metadata": {
        "id": "74eacb90",
        "outputId": "30f28e3f-25b3-434d-ed0d-5918738cb5dc"
      },
      "outputs": [
        {
          "data": {
            "text/plain": [
              "'C:\\\\Users\\\\ShwetaBatra\\\\Downloads'"
            ]
          },
          "execution_count": 12,
          "metadata": {},
          "output_type": "execute_result"
        }
      ],
      "source": [
        "os.getcwd()"
      ]
    },
    {
      "cell_type": "markdown",
      "id": "36022c40",
      "metadata": {
        "id": "36022c40"
      },
      "source": [
        "### Defining Required paths"
      ]
    },
    {
      "cell_type": "code",
      "execution_count": null,
      "id": "a9cb177f",
      "metadata": {
        "id": "a9cb177f"
      },
      "outputs": [],
      "source": [
        "input_file_path = r\"C:\\Users\\ShwetaBatra\\Downloads\\modello-di-contratto-di-vendita-internazionale.pdf\"\n",
        "input_file_name = os.path.split(input_file_path)[-1].replace('.pdf','')\n",
        "output_folder_path = r\"C:\\Users\\ShwetaBatra\\Downloads\\Output_pdf_img\""
      ]
    },
    {
      "cell_type": "code",
      "execution_count": null,
      "id": "c2f90572",
      "metadata": {
        "id": "c2f90572"
      },
      "outputs": [],
      "source": [
        "def pdf_to_image(input_file_name, input_file_path, output_folder_path):\n",
        "    \n",
        "    if not os.path.exists(output_folder_path):\n",
        "        os.makedirs(output_folder_path)\n",
        "        \n",
        "    print('Extracting text from {}'.format(input_file_name))\n",
        "    \n",
        "    # PdfDocument (supports file path strings, bytes, and byte buffers)\n",
        "    pdf_info = pdfium.PdfDocument(input_file_path)\n",
        "    \n",
        "    # get the number of pages in the document\n",
        "    n_pages = len(pdf_info)\n",
        "    print(n_pages)\n",
        "    \n",
        "    page_indices = [i for i in range(n_pages)]\n",
        "    print(page_indices)\n",
        "    \n",
        "    # Render multiple pages concurrently(converting into images).\n",
        "    # A bitmap is a type of memory organization or image file format used to store digital images.\n",
        "    # PIL python imaging Library and it's the original library that enabled Python to deal with images.\n",
        "    # Scale is the resolution of the image.\n",
        "    \n",
        "    renderer = pdf_info.render_to(pdfium.BitmapConv.pil_image, page_indices = page_indices, scale = 300/72)\n",
        "\n",
        "    page_number = 1\n",
        "    \n",
        "    for images in renderer:\n",
        "#         print(images.show())\n",
        "        images.save(output_folder_path + \"/\" + str(page_number) + \"_\" + input_file_name + '.jpeg')\n",
        "        \n",
        "        page_number = page_number+1\n",
        "\n",
        "    "
      ]
    },
    {
      "cell_type": "code",
      "execution_count": null,
      "id": "245a226a",
      "metadata": {
        "id": "245a226a",
        "outputId": "cf47fd48-89ff-442d-91c0-7b7755e943f5"
      },
      "outputs": [
        {
          "name": "stdout",
          "output_type": "stream",
          "text": [
            "Extracting text from modello-di-contratto-di-vendita-internazionale\n",
            "7\n",
            "[0, 1, 2, 3, 4, 5, 6]\n"
          ]
        }
      ],
      "source": [
        "pdf_to_image(input_file_name, input_file_path, output_folder_path)"
      ]
    },
    {
      "cell_type": "code",
      "execution_count": null,
      "id": "73f58b69",
      "metadata": {
        "id": "73f58b69"
      },
      "outputs": [],
      "source": []
    }
  ],
  "metadata": {
    "kernelspec": {
      "display_name": "Python 3 (ipykernel)",
      "language": "python",
      "name": "python3"
    },
    "language_info": {
      "codemirror_mode": {
        "name": "ipython",
        "version": 3
      },
      "file_extension": ".py",
      "mimetype": "text/x-python",
      "name": "python",
      "nbconvert_exporter": "python",
      "pygments_lexer": "ipython3",
      "version": "3.9.13"
    },
    "colab": {
      "provenance": [],
      "include_colab_link": true
    }
  },
  "nbformat": 4,
  "nbformat_minor": 5
}