{
  "cells": [
    {
      "cell_type": "markdown",
      "metadata": {
        "id": "view-in-github",
        "colab_type": "text"
      },
      "source": [
        "<a href=\"https://colab.research.google.com/github/zenon10/POC-OCR/blob/main/ImageToText_vF.ipynb\" target=\"_parent\"><img src=\"https://colab.research.google.com/assets/colab-badge.svg\" alt=\"Open In Colab\"/></a>"
      ]
    },
    {
      "cell_type": "code",
      "execution_count": null,
      "id": "964f6aef-7910-4e3b-901f-7d4dab4a4596",
      "metadata": {
        "id": "964f6aef-7910-4e3b-901f-7d4dab4a4596"
      },
      "outputs": [],
      "source": [
        "import os\n",
        "import glob\n",
        "import pandas as pd\n",
        "from PIL import Image\n",
        "import pytesseract\n",
        "\n",
        "# If you don't have tesseract executable in your PATH, include the following:\n",
        "pytesseract.pytesseract.tesseract_cmd = r'C:\\Users\\ShwetaBatra\\OneDrive - Zenon\\tesseract.exe'"
      ]
    },
    {
      "cell_type": "code",
      "execution_count": null,
      "id": "d63a9c26-caf9-44c1-a02e-5dbbc675ac6c",
      "metadata": {
        "id": "d63a9c26-caf9-44c1-a02e-5dbbc675ac6c"
      },
      "outputs": [],
      "source": [
        "def image_to_txt(image_path, language, output_folder_path):\n",
        "    \n",
        "    if not os.path.exists(output_folder_path):\n",
        "        os.makedirs(output_folder_path)\n",
        "    \n",
        "    path = glob.glob(image_path + \"/*.jpeg\")\n",
        "    print(path)\n",
        "    \n",
        "    df = pd.DataFrame(columns=['Image_path','output_folder_path', 'Language'])\n",
        "        \n",
        "    ## Blank string to concatenate all text string outputs from ocr for each image\n",
        "    combined_text = ''\n",
        "    \n",
        "    for img in path:\n",
        "        \n",
        "        file_name = os.path.basename(img)[:-4].replace('.','')\n",
        "        print(\"File name:\", file_name)\n",
        "        \n",
        "        ## Extracting text from image\n",
        "        text = pytesseract.image_to_string(Image.open(img), lang=language)\n",
        "        \n",
        "        ## Concatenating text-string outputs from each image into one master text-string\n",
        "        combined_text = \"\\n\".join([combined_text, text])\n",
        "        \n",
        "        ## Creating separate text files for each image\n",
        "        with open(output_folder_path + \"/\" + file_name +'.txt', \"w\",encoding=\"utf8\") as f:\n",
        "            f.write(text)\n",
        "        \n",
        "        ## Writing in a pandas dataframe\n",
        "        df.loc[len(df.index)] = [img, output_folder_path + file_name +'.txt', language]\n",
        "        \n",
        "    ## Open a file with access mode 'a'\n",
        "    file_object2 = open(output_folder_path + \"/\" + 'Combined_text.txt', 'a',encoding=\"utf8\")\n",
        "    file_object2.write(combined_text)\n",
        "    file_object2.close()\n",
        "    \n",
        "    return df"
      ]
    },
    {
      "cell_type": "code",
      "execution_count": null,
      "id": "1d953ac2-9953-4f25-8b4e-0a6a5399dc77",
      "metadata": {
        "id": "1d953ac2-9953-4f25-8b4e-0a6a5399dc77",
        "outputId": "80fd4781-ae17-4c19-d9a9-19f5ee006d63"
      },
      "outputs": [
        {
          "name": "stdout",
          "output_type": "stream",
          "text": [
            "['C:\\\\Users\\\\ShwetaBatra\\\\Downloads\\\\Output_pdf_img\\\\1_modello-di-contratto-di-vendita-internazionale.jpeg', 'C:\\\\Users\\\\ShwetaBatra\\\\Downloads\\\\Output_pdf_img\\\\2_modello-di-contratto-di-vendita-internazionale.jpeg', 'C:\\\\Users\\\\ShwetaBatra\\\\Downloads\\\\Output_pdf_img\\\\3_modello-di-contratto-di-vendita-internazionale.jpeg', 'C:\\\\Users\\\\ShwetaBatra\\\\Downloads\\\\Output_pdf_img\\\\4_modello-di-contratto-di-vendita-internazionale.jpeg', 'C:\\\\Users\\\\ShwetaBatra\\\\Downloads\\\\Output_pdf_img\\\\5_modello-di-contratto-di-vendita-internazionale.jpeg', 'C:\\\\Users\\\\ShwetaBatra\\\\Downloads\\\\Output_pdf_img\\\\6_modello-di-contratto-di-vendita-internazionale.jpeg', 'C:\\\\Users\\\\ShwetaBatra\\\\Downloads\\\\Output_pdf_img\\\\7_modello-di-contratto-di-vendita-internazionale.jpeg']\n",
            "File name: 1_modello-di-contratto-di-vendita-internazionale\n",
            "File name: 2_modello-di-contratto-di-vendita-internazionale\n",
            "File name: 3_modello-di-contratto-di-vendita-internazionale\n",
            "File name: 4_modello-di-contratto-di-vendita-internazionale\n",
            "File name: 5_modello-di-contratto-di-vendita-internazionale\n",
            "File name: 6_modello-di-contratto-di-vendita-internazionale\n",
            "File name: 7_modello-di-contratto-di-vendita-internazionale\n"
          ]
        },
        {
          "data": {
            "text/html": [
              "<div>\n",
              "<style scoped>\n",
              "    .dataframe tbody tr th:only-of-type {\n",
              "        vertical-align: middle;\n",
              "    }\n",
              "\n",
              "    .dataframe tbody tr th {\n",
              "        vertical-align: top;\n",
              "    }\n",
              "\n",
              "    .dataframe thead th {\n",
              "        text-align: right;\n",
              "    }\n",
              "</style>\n",
              "<table border=\"1\" class=\"dataframe\">\n",
              "  <thead>\n",
              "    <tr style=\"text-align: right;\">\n",
              "      <th></th>\n",
              "      <th>Image_path</th>\n",
              "      <th>output_folder_path</th>\n",
              "      <th>Language</th>\n",
              "    </tr>\n",
              "  </thead>\n",
              "  <tbody>\n",
              "    <tr>\n",
              "      <th>0</th>\n",
              "      <td>C:\\Users\\ShwetaBatra\\Downloads\\Output_pdf_img\\...</td>\n",
              "      <td>C:\\Users\\ShwetaBatra\\Downloads\\Output_img_text...</td>\n",
              "      <td>ita</td>\n",
              "    </tr>\n",
              "    <tr>\n",
              "      <th>1</th>\n",
              "      <td>C:\\Users\\ShwetaBatra\\Downloads\\Output_pdf_img\\...</td>\n",
              "      <td>C:\\Users\\ShwetaBatra\\Downloads\\Output_img_text...</td>\n",
              "      <td>ita</td>\n",
              "    </tr>\n",
              "    <tr>\n",
              "      <th>2</th>\n",
              "      <td>C:\\Users\\ShwetaBatra\\Downloads\\Output_pdf_img\\...</td>\n",
              "      <td>C:\\Users\\ShwetaBatra\\Downloads\\Output_img_text...</td>\n",
              "      <td>ita</td>\n",
              "    </tr>\n",
              "    <tr>\n",
              "      <th>3</th>\n",
              "      <td>C:\\Users\\ShwetaBatra\\Downloads\\Output_pdf_img\\...</td>\n",
              "      <td>C:\\Users\\ShwetaBatra\\Downloads\\Output_img_text...</td>\n",
              "      <td>ita</td>\n",
              "    </tr>\n",
              "    <tr>\n",
              "      <th>4</th>\n",
              "      <td>C:\\Users\\ShwetaBatra\\Downloads\\Output_pdf_img\\...</td>\n",
              "      <td>C:\\Users\\ShwetaBatra\\Downloads\\Output_img_text...</td>\n",
              "      <td>ita</td>\n",
              "    </tr>\n",
              "    <tr>\n",
              "      <th>5</th>\n",
              "      <td>C:\\Users\\ShwetaBatra\\Downloads\\Output_pdf_img\\...</td>\n",
              "      <td>C:\\Users\\ShwetaBatra\\Downloads\\Output_img_text...</td>\n",
              "      <td>ita</td>\n",
              "    </tr>\n",
              "    <tr>\n",
              "      <th>6</th>\n",
              "      <td>C:\\Users\\ShwetaBatra\\Downloads\\Output_pdf_img\\...</td>\n",
              "      <td>C:\\Users\\ShwetaBatra\\Downloads\\Output_img_text...</td>\n",
              "      <td>ita</td>\n",
              "    </tr>\n",
              "  </tbody>\n",
              "</table>\n",
              "</div>"
            ],
            "text/plain": [
              "                                          Image_path  \\\n",
              "0  C:\\Users\\ShwetaBatra\\Downloads\\Output_pdf_img\\...   \n",
              "1  C:\\Users\\ShwetaBatra\\Downloads\\Output_pdf_img\\...   \n",
              "2  C:\\Users\\ShwetaBatra\\Downloads\\Output_pdf_img\\...   \n",
              "3  C:\\Users\\ShwetaBatra\\Downloads\\Output_pdf_img\\...   \n",
              "4  C:\\Users\\ShwetaBatra\\Downloads\\Output_pdf_img\\...   \n",
              "5  C:\\Users\\ShwetaBatra\\Downloads\\Output_pdf_img\\...   \n",
              "6  C:\\Users\\ShwetaBatra\\Downloads\\Output_pdf_img\\...   \n",
              "\n",
              "                                  output_folder_path Language  \n",
              "0  C:\\Users\\ShwetaBatra\\Downloads\\Output_img_text...      ita  \n",
              "1  C:\\Users\\ShwetaBatra\\Downloads\\Output_img_text...      ita  \n",
              "2  C:\\Users\\ShwetaBatra\\Downloads\\Output_img_text...      ita  \n",
              "3  C:\\Users\\ShwetaBatra\\Downloads\\Output_img_text...      ita  \n",
              "4  C:\\Users\\ShwetaBatra\\Downloads\\Output_img_text...      ita  \n",
              "5  C:\\Users\\ShwetaBatra\\Downloads\\Output_img_text...      ita  \n",
              "6  C:\\Users\\ShwetaBatra\\Downloads\\Output_img_text...      ita  "
            ]
          },
          "execution_count": 29,
          "metadata": {},
          "output_type": "execute_result"
        }
      ],
      "source": [
        "image_path = r'C:\\Users\\ShwetaBatra\\Downloads\\Output_pdf_img'\n",
        "language = 'ita'\n",
        "output_folder_path = r'C:\\Users\\ShwetaBatra\\Downloads\\Output_img_text'\n",
        "\n",
        "df = image_to_txt(image_path, language, output_folder_path) ; df"
      ]
    }
  ],
  "metadata": {
    "kernelspec": {
      "display_name": "Python 3 (ipykernel)",
      "language": "python",
      "name": "python3"
    },
    "language_info": {
      "codemirror_mode": {
        "name": "ipython",
        "version": 3
      },
      "file_extension": ".py",
      "mimetype": "text/x-python",
      "name": "python",
      "nbconvert_exporter": "python",
      "pygments_lexer": "ipython3",
      "version": "3.9.13"
    },
    "colab": {
      "provenance": [],
      "include_colab_link": true
    }
  },
  "nbformat": 4,
  "nbformat_minor": 5
}